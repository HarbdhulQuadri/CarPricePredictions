{
 "cells": [
  {
   "cell_type": "code",
   "execution_count": null,
   "metadata": {},
   "outputs": [],
   "source": [
    "# import necessary library\n",
    "import numpy as np\n",
    "import pandas as pd\n",
    "from sklearn import preprocessing\n",
    "from sklearn.model_selection import train_test_split\n",
    "from sklearn.tree import DecisionTreeRegressor\n",
    "from sklearn.model_selection import cross_val_predict\n",
    "from sklearn.metrics import explained_variance_score\n",
    "import warnings"
   ]
  },
  {
   "cell_type": "code",
   "execution_count": null,
   "metadata": {},
   "outputs": [],
   "source": [
    "# check stastical summary of the raw data\n",
    "\n",
    "csv.describe(include='all')\n"
   ]
  },
  {
   "cell_type": "code",
   "execution_count": null,
   "metadata": {},
   "outputs": [],
   "source": [
    "# dealing with missing values\n",
    "csv = pd.read_csv('cars_data.csv',  names = [\"Name\", \"Location\", \"Used\", \"Year\", \"Milleage\", \"Transmision\", \"Price\" ])\n",
    "clean_data = csv.dropna()\n"
   ]
  },
  {
   "cell_type": "code",
   "execution_count": null,
   "metadata": {},
   "outputs": [],
   "source": [
    "#  formatting the dataset\n",
    "clean_data.Milleage= clean_data.Milleage.astype(str).str[:-2]\n",
    "\n",
    "y = clean_data.iloc[:,-1]\n",
    "x = clean_data.iloc[:,:6]\n",
    "clean_data.head(5)"
   ]
  },
  {
   "cell_type": "code",
   "execution_count": null,
   "metadata": {},
   "outputs": [],
   "source": [
    "# check stastical summary of the clean data \n",
    "clean_data.describe(include='all')"
   ]
  },
  {
   "cell_type": "code",
   "execution_count": null,
   "metadata": {},
   "outputs": [],
   "source": [
    "# grouping the dataset by name\n",
    "unique_names = clean_data.groupby('Name').nunique()\n",
    "unique_names"
   ]
  },
  {
   "cell_type": "code",
   "execution_count": null,
   "metadata": {},
   "outputs": [],
   "source": [
    "# training of the model and integer enconding of categorical predictors\n",
    "le = preprocessing.LabelEncoder()\n",
    "ne = preprocessing.LabelEncoder()\n",
    "ue = preprocessing.LabelEncoder()\n",
    "te = preprocessing.LabelEncoder()\n",
    "location = x.Location\n",
    "le.fit(location)\n",
    "ne.fit(x.Name)\n",
    "ue.fit(x.Used)\n",
    "te.fit(x.Transmision)\n",
    "# data transformation process\n",
    "l_temp = le.transform(location) \n",
    "n_temp = ne.transform(x.Name) \n",
    "u_temp = ue.transform(x.Used) \n",
    "t_temp = te.transform(x.Transmision) "
   ]
  },
  {
   "cell_type": "code",
   "execution_count": null,
   "metadata": {},
   "outputs": [],
   "source": [
    "# assigning the transformed data as the predictors\n",
    "x = x.assign(Location=l_temp)\n",
    "x = x.assign(Transmision=t_temp)\n",
    "x = x.assign(Used=u_temp)\n",
    "x = x.assign(Name=n_temp)"
   ]
  },
  {
   "cell_type": "code",
   "execution_count": null,
   "metadata": {},
   "outputs": [],
   "source": [
    "x.head(5)"
   ]
  },
  {
   "cell_type": "code",
   "execution_count": null,
   "metadata": {},
   "outputs": [],
   "source": [
    "# split data into random train and test subsets\n",
    "X_train, X_test, y_train, y_test = train_test_split(x, y, test_size=0.33, random_state=42)\n",
    "X_train.shape\n",
    "X_test.head()"
   ]
  },
  {
   "cell_type": "code",
   "execution_count": null,
   "metadata": {},
   "outputs": [],
   "source": [
    "# training the dataset with Decision Tree regression technique\n",
    "dt = DecisionTreeRegressor()\n",
    "dt.fit(X_train, y_train)"
   ]
  },
  {
   "cell_type": "code",
   "execution_count": null,
   "metadata": {},
   "outputs": [],
   "source": [
    "# predicting the price from the model\n",
    "dt.predict([[408, 13, 2, 2003, 222942, 0]])\n",
    "print (\"Price for a  \" + str(ue.inverse_transform(2)) + \", \" + str(ne.inverse_transform(408)) \n",
    "       + \", \" + str(2003) + \" with a milleage of \" + str(222942) + \"is NGN\" + str(dt.predict([[408, 13, 2, 2003, 222942, 0]])[0]))"
   ]
  },
  {
   "cell_type": "code",
   "execution_count": null,
   "metadata": {},
   "outputs": [],
   "source": [
    "# in-sample evaluation(how close the data fit the the model)\n",
    "# coefficient of determination measures\n",
    "dt.score(X_train, y_train)"
   ]
  },
  {
   "cell_type": "code",
   "execution_count": null,
   "metadata": {},
   "outputs": [],
   "source": [
    "y_predict = dt.predict(X_test)\n",
    "print(\"The number of train data set is\",y_train.shape[0])\n",
    "print(\"The number of test data set is\",y_predict.shape[0])"
   ]
  },
  {
   "cell_type": "code",
   "execution_count": null,
   "metadata": {},
   "outputs": [],
   "source": [
    "# out-of-sample evaluation\n",
    "explained_variance_score(y_test, y_predict)"
   ]
  },
  {
   "cell_type": "code",
   "execution_count": null,
   "metadata": {},
   "outputs": [],
   "source": [
    "# transforming the categorical variable to quantitative variable with one hot coding\n",
    "y = clean_data.iloc[:,-1]\n",
    "x = clean_data.iloc[:,:6]\n",
    "x = pd.get_dummies(data=x , columns=['Name', 'Location', 'Used', 'Transmision'])"
   ]
  },
  {
   "cell_type": "code",
   "execution_count": null,
   "metadata": {},
   "outputs": [],
   "source": [
    "# trainig and evaluation of the transformed data(in-sample data)\n",
    "X_train, X_test, y_train, y_test = train_test_split(x, y, test_size=0.33, random_state=42)\n",
    "dt_dummy = DecisionTreeRegressor()\n",
    "dt_dummy.fit(X_train, y_train)\n",
    "\n",
    "dt_dummy.score(X_train, y_train)\n"
   ]
  },
  {
   "cell_type": "code",
   "execution_count": null,
   "metadata": {},
   "outputs": [],
   "source": [
    "# out-of-sample evalution of the transformed data\n",
    "y_predict = dt_dummy.predict(X_test)\n",
    "explained_variance_score(y_test, y_predict) \n",
    "#y_predict"
   ]
  },
  {
   "cell_type": "code",
   "execution_count": null,
   "metadata": {},
   "outputs": [],
   "source": [
    "# predicting the price from the model\n",
    "# dt.predict([[408, 13, 2, 0]])\n",
    "# print (\"Price for a  \" + str(ue.inverse_transform(2)) + \", \" + str(ne.inverse_transform(408)) \n",
    "#        + \", \" + str(2003) + \" with a milleage of \" + str(222942) + \"is NGN\" + str(dt.predict([[408, 13, 2, 0]])[0]))\n",
    "y_predict.shape"
   ]
  },
  {
   "cell_type": "code",
   "execution_count": null,
   "metadata": {},
   "outputs": [],
   "source": [
    "X_test.shape"
   ]
  },
  {
   "cell_type": "code",
   "execution_count": null,
   "metadata": {},
   "outputs": [],
   "source": [
    "X_test.iloc[1:2].get_values"
   ]
  },
  {
   "cell_type": "code",
   "execution_count": null,
   "metadata": {},
   "outputs": [],
   "source": []
  },
  {
   "cell_type": "code",
   "execution_count": null,
   "metadata": {},
   "outputs": [],
   "source": []
  }
 ],
 "metadata": {
  "kernelspec": {
   "display_name": "Python 3",
   "language": "python",
   "name": "python3"
  },
  "language_info": {
   "codemirror_mode": {
    "name": "ipython",
    "version": 3
   },
   "file_extension": ".py",
   "mimetype": "text/x-python",
   "name": "python",
   "nbconvert_exporter": "python",
   "pygments_lexer": "ipython3",
   "version": "3.6.5"
  }
 },
 "nbformat": 4,
 "nbformat_minor": 2
}
